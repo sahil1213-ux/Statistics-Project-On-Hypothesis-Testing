{
 "cells": [
  {
   "cell_type": "markdown",
   "metadata": {},
   "source": [
    "## Maximizing Revenue for Taxi Cab Drivers through Payment Type analysis"
   ]
  },
  {
   "cell_type": "markdown",
   "metadata": {},
   "source": [
    "### Problem Statement\n",
    "In the fast-paced taxi-booking sector, making the most of revenue is essential."
   ]
  },
  {
   "cell_type": "markdown",
   "metadata": {},
   "source": [
    "### Objective\n",
    "#### This project investigates how payment type affects fare amounts in taxi services. The objective is to determine if nudging customers towards specific payment methods can maximize revenue for drivers without negatively impacting customer experience."
   ]
  },
  {
   "cell_type": "markdown",
   "metadata": {},
   "source": [
    "### Research Question\n",
    "#### What factors influence a customer's choice to pay using either a card or cash for their trip bill?"
   ]
  },
  {
   "cell_type": "markdown",
   "metadata": {},
   "source": [
    "### Important Libraries"
   ]
  },
  {
   "cell_type": "code",
   "execution_count": 146,
   "metadata": {},
   "outputs": [],
   "source": [
    "import pandas as pd\n",
    "import matplotlib.pyplot as plt\n",
    "import seaborn as sns\n",
    "import scipy.stats as st\n",
    "import warnings\n",
    "import statsmodels.api as sm \n",
    "warnings.filterwarnings('ignore')"
   ]
  },
  {
   "cell_type": "markdown",
   "metadata": {},
   "source": [
    "### Loading The Dataset\n"
   ]
  },
  {
   "cell_type": "code",
   "execution_count": 147,
   "metadata": {},
   "outputs": [],
   "source": [
    "%reload_ext sql"
   ]
  },
  {
   "cell_type": "code",
   "execution_count": 148,
   "metadata": {},
   "outputs": [],
   "source": [
    "DB_USER = \"postgres\"\n",
    "DB_PASSWORD = \"Sah%407920S12\"\n",
    "DB_HOST = \"localhost\"  # Change if your database is hosted elsewhere\n",
    "DB_PORT = \"5432\"  # Default PostgreSQL port\n",
    "DB_NAME = \"test_db\"\n",
    "\n",
    "# # Create connection string\n",
    "CONN_STRING = f\"postgresql://{DB_USER}:{DB_PASSWORD}@{DB_HOST}:{DB_PORT}/{DB_NAME}\"\n",
    "\n",
    "# Connect to PostgreSQL\n",
    "%sql $CONN_STRING"
   ]
  },
  {
   "cell_type": "code",
   "execution_count": 149,
   "metadata": {},
   "outputs": [
    {
     "data": {
      "text/html": [
       "<div>\n",
       "<style scoped>\n",
       "    .dataframe tbody tr th:only-of-type {\n",
       "        vertical-align: middle;\n",
       "    }\n",
       "\n",
       "    .dataframe tbody tr th {\n",
       "        vertical-align: top;\n",
       "    }\n",
       "\n",
       "    .dataframe thead th {\n",
       "        text-align: right;\n",
       "    }\n",
       "</style>\n",
       "<table border=\"1\" class=\"dataframe\">\n",
       "  <thead>\n",
       "    <tr style=\"text-align: right;\">\n",
       "      <th></th>\n",
       "      <th>vendorid</th>\n",
       "      <th>tpep_pickup_datetime</th>\n",
       "      <th>tpep_dropoff_datetime</th>\n",
       "      <th>passenger_count</th>\n",
       "      <th>trip_distance</th>\n",
       "      <th>ratecodeid</th>\n",
       "      <th>store_and_fwd_flag</th>\n",
       "      <th>pulocationid</th>\n",
       "      <th>dolocationid</th>\n",
       "      <th>payment_type</th>\n",
       "      <th>fare_amount</th>\n",
       "      <th>extra</th>\n",
       "      <th>mta_tax</th>\n",
       "      <th>tip_amount</th>\n",
       "      <th>tolls_amount</th>\n",
       "      <th>improvement_surcharge</th>\n",
       "      <th>total_amount</th>\n",
       "      <th>congestion_surcharge</th>\n",
       "      <th>airport_fee</th>\n",
       "      <th>duration</th>\n",
       "    </tr>\n",
       "  </thead>\n",
       "  <tbody>\n",
       "    <tr>\n",
       "      <th>0</th>\n",
       "      <td>2</td>\n",
       "      <td>2023-01-15 21:19:56</td>\n",
       "      <td>2023-01-15 21:25:18</td>\n",
       "      <td>1</td>\n",
       "      <td>0.99</td>\n",
       "      <td>1</td>\n",
       "      <td>N</td>\n",
       "      <td>161</td>\n",
       "      <td>43</td>\n",
       "      <td>1</td>\n",
       "      <td>7.2</td>\n",
       "      <td>1.0</td>\n",
       "      <td>0.5</td>\n",
       "      <td>3.66</td>\n",
       "      <td>0.00</td>\n",
       "      <td>1</td>\n",
       "      <td>15.86</td>\n",
       "      <td>2.5</td>\n",
       "      <td>0.00</td>\n",
       "      <td>5.366667</td>\n",
       "    </tr>\n",
       "    <tr>\n",
       "      <th>1</th>\n",
       "      <td>2</td>\n",
       "      <td>2023-01-15 21:29:03</td>\n",
       "      <td>2023-01-15 21:40:45</td>\n",
       "      <td>1</td>\n",
       "      <td>1.75</td>\n",
       "      <td>1</td>\n",
       "      <td>N</td>\n",
       "      <td>163</td>\n",
       "      <td>234</td>\n",
       "      <td>1</td>\n",
       "      <td>12.1</td>\n",
       "      <td>1.0</td>\n",
       "      <td>0.5</td>\n",
       "      <td>3.42</td>\n",
       "      <td>0.00</td>\n",
       "      <td>1</td>\n",
       "      <td>20.52</td>\n",
       "      <td>2.5</td>\n",
       "      <td>0.00</td>\n",
       "      <td>11.700000</td>\n",
       "    </tr>\n",
       "    <tr>\n",
       "      <th>2</th>\n",
       "      <td>2</td>\n",
       "      <td>2023-01-15 21:42:30</td>\n",
       "      <td>2023-01-15 21:58:58</td>\n",
       "      <td>1</td>\n",
       "      <td>3.42</td>\n",
       "      <td>1</td>\n",
       "      <td>N</td>\n",
       "      <td>234</td>\n",
       "      <td>140</td>\n",
       "      <td>1</td>\n",
       "      <td>18.4</td>\n",
       "      <td>1.0</td>\n",
       "      <td>0.5</td>\n",
       "      <td>1.00</td>\n",
       "      <td>0.00</td>\n",
       "      <td>1</td>\n",
       "      <td>24.40</td>\n",
       "      <td>2.5</td>\n",
       "      <td>0.00</td>\n",
       "      <td>16.466667</td>\n",
       "    </tr>\n",
       "    <tr>\n",
       "      <th>3</th>\n",
       "      <td>2</td>\n",
       "      <td>2023-01-15 21:35:00</td>\n",
       "      <td>2023-01-15 21:55:09</td>\n",
       "      <td>1</td>\n",
       "      <td>10.25</td>\n",
       "      <td>1</td>\n",
       "      <td>N</td>\n",
       "      <td>264</td>\n",
       "      <td>162</td>\n",
       "      <td>1</td>\n",
       "      <td>40.8</td>\n",
       "      <td>6.0</td>\n",
       "      <td>0.5</td>\n",
       "      <td>11.72</td>\n",
       "      <td>6.55</td>\n",
       "      <td>1</td>\n",
       "      <td>70.32</td>\n",
       "      <td>2.5</td>\n",
       "      <td>1.25</td>\n",
       "      <td>20.150000</td>\n",
       "    </tr>\n",
       "    <tr>\n",
       "      <th>4</th>\n",
       "      <td>2</td>\n",
       "      <td>2023-01-15 21:24:14</td>\n",
       "      <td>2023-01-15 22:00:36</td>\n",
       "      <td>2</td>\n",
       "      <td>20.83</td>\n",
       "      <td>2</td>\n",
       "      <td>N</td>\n",
       "      <td>132</td>\n",
       "      <td>238</td>\n",
       "      <td>1</td>\n",
       "      <td>70.0</td>\n",
       "      <td>0.0</td>\n",
       "      <td>0.5</td>\n",
       "      <td>4.00</td>\n",
       "      <td>6.55</td>\n",
       "      <td>1</td>\n",
       "      <td>85.80</td>\n",
       "      <td>2.5</td>\n",
       "      <td>1.25</td>\n",
       "      <td>36.366667</td>\n",
       "    </tr>\n",
       "  </tbody>\n",
       "</table>\n",
       "</div>"
      ],
      "text/plain": [
       "   vendorid tpep_pickup_datetime tpep_dropoff_datetime  passenger_count  \\\n",
       "0         2  2023-01-15 21:19:56   2023-01-15 21:25:18                1   \n",
       "1         2  2023-01-15 21:29:03   2023-01-15 21:40:45                1   \n",
       "2         2  2023-01-15 21:42:30   2023-01-15 21:58:58                1   \n",
       "3         2  2023-01-15 21:35:00   2023-01-15 21:55:09                1   \n",
       "4         2  2023-01-15 21:24:14   2023-01-15 22:00:36                2   \n",
       "\n",
       "   trip_distance  ratecodeid store_and_fwd_flag  pulocationid  dolocationid  \\\n",
       "0           0.99           1                  N           161            43   \n",
       "1           1.75           1                  N           163           234   \n",
       "2           3.42           1                  N           234           140   \n",
       "3          10.25           1                  N           264           162   \n",
       "4          20.83           2                  N           132           238   \n",
       "\n",
       "   payment_type  fare_amount  extra  mta_tax  tip_amount  tolls_amount  \\\n",
       "0             1          7.2    1.0      0.5        3.66          0.00   \n",
       "1             1         12.1    1.0      0.5        3.42          0.00   \n",
       "2             1         18.4    1.0      0.5        1.00          0.00   \n",
       "3             1         40.8    6.0      0.5       11.72          6.55   \n",
       "4             1         70.0    0.0      0.5        4.00          6.55   \n",
       "\n",
       "   improvement_surcharge  total_amount  congestion_surcharge  airport_fee  \\\n",
       "0                      1         15.86                   2.5         0.00   \n",
       "1                      1         20.52                   2.5         0.00   \n",
       "2                      1         24.40                   2.5         0.00   \n",
       "3                      1         70.32                   2.5         1.25   \n",
       "4                      1         85.80                   2.5         1.25   \n",
       "\n",
       "    duration  \n",
       "0   5.366667  \n",
       "1  11.700000  \n",
       "2  16.466667  \n",
       "3  20.150000  \n",
       "4  36.366667  "
      ]
     },
     "execution_count": 149,
     "metadata": {},
     "output_type": "execute_result"
    }
   ],
   "source": [
    "query = \"SELECT * FROM taxi_data LIMIT 100000;\" \n",
    "df = pd.read_sql(query, CONN_STRING)\n",
    "\n",
    "# Display the dataframe\n",
    "df.head()"
   ]
  },
  {
   "cell_type": "markdown",
   "metadata": {},
   "source": [
    "## Exploratory Data analysis"
   ]
  },
  {
   "cell_type": "code",
   "execution_count": 150,
   "metadata": {},
   "outputs": [],
   "source": [
    "# df.to_csv('2023_Yellow_Taxi_Trip_Data_sample.csv', index=False)\n",
    "df = pd.read_csv('2023_Yellow_Taxi_Trip_Data_sample.csv')"
   ]
  },
  {
   "cell_type": "code",
   "execution_count": 151,
   "metadata": {},
   "outputs": [
    {
     "data": {
      "text/html": [
       "<div>\n",
       "<style scoped>\n",
       "    .dataframe tbody tr th:only-of-type {\n",
       "        vertical-align: middle;\n",
       "    }\n",
       "\n",
       "    .dataframe tbody tr th {\n",
       "        vertical-align: top;\n",
       "    }\n",
       "\n",
       "    .dataframe thead th {\n",
       "        text-align: right;\n",
       "    }\n",
       "</style>\n",
       "<table border=\"1\" class=\"dataframe\">\n",
       "  <thead>\n",
       "    <tr style=\"text-align: right;\">\n",
       "      <th></th>\n",
       "      <th>passenger_count</th>\n",
       "      <th>payment_type</th>\n",
       "      <th>fare_amount</th>\n",
       "      <th>trip_distance</th>\n",
       "      <th>duration</th>\n",
       "    </tr>\n",
       "  </thead>\n",
       "  <tbody>\n",
       "    <tr>\n",
       "      <th>0</th>\n",
       "      <td>1</td>\n",
       "      <td>2</td>\n",
       "      <td>9.3</td>\n",
       "      <td>0.97</td>\n",
       "      <td>8.433333</td>\n",
       "    </tr>\n",
       "    <tr>\n",
       "      <th>1</th>\n",
       "      <td>1</td>\n",
       "      <td>1</td>\n",
       "      <td>7.9</td>\n",
       "      <td>1.10</td>\n",
       "      <td>6.316667</td>\n",
       "    </tr>\n",
       "    <tr>\n",
       "      <th>2</th>\n",
       "      <td>1</td>\n",
       "      <td>1</td>\n",
       "      <td>14.9</td>\n",
       "      <td>2.51</td>\n",
       "      <td>12.750000</td>\n",
       "    </tr>\n",
       "    <tr>\n",
       "      <th>3</th>\n",
       "      <td>0</td>\n",
       "      <td>1</td>\n",
       "      <td>12.1</td>\n",
       "      <td>1.90</td>\n",
       "      <td>9.616667</td>\n",
       "    </tr>\n",
       "    <tr>\n",
       "      <th>4</th>\n",
       "      <td>1</td>\n",
       "      <td>1</td>\n",
       "      <td>11.4</td>\n",
       "      <td>1.43</td>\n",
       "      <td>10.833333</td>\n",
       "    </tr>\n",
       "    <tr>\n",
       "      <th>...</th>\n",
       "      <td>...</td>\n",
       "      <td>...</td>\n",
       "      <td>...</td>\n",
       "      <td>...</td>\n",
       "      <td>...</td>\n",
       "    </tr>\n",
       "    <tr>\n",
       "      <th>99995</th>\n",
       "      <td>1</td>\n",
       "      <td>1</td>\n",
       "      <td>21.2</td>\n",
       "      <td>3.72</td>\n",
       "      <td>20.150000</td>\n",
       "    </tr>\n",
       "    <tr>\n",
       "      <th>99996</th>\n",
       "      <td>1</td>\n",
       "      <td>1</td>\n",
       "      <td>8.6</td>\n",
       "      <td>0.00</td>\n",
       "      <td>8.100000</td>\n",
       "    </tr>\n",
       "    <tr>\n",
       "      <th>99997</th>\n",
       "      <td>1</td>\n",
       "      <td>1</td>\n",
       "      <td>4.4</td>\n",
       "      <td>0.00</td>\n",
       "      <td>2.450000</td>\n",
       "    </tr>\n",
       "    <tr>\n",
       "      <th>99998</th>\n",
       "      <td>1</td>\n",
       "      <td>1</td>\n",
       "      <td>7.9</td>\n",
       "      <td>0.00</td>\n",
       "      <td>7.250000</td>\n",
       "    </tr>\n",
       "    <tr>\n",
       "      <th>99999</th>\n",
       "      <td>1</td>\n",
       "      <td>1</td>\n",
       "      <td>13.5</td>\n",
       "      <td>1.99</td>\n",
       "      <td>11.850000</td>\n",
       "    </tr>\n",
       "  </tbody>\n",
       "</table>\n",
       "<p>100000 rows × 5 columns</p>\n",
       "</div>"
      ],
      "text/plain": [
       "       passenger_count  payment_type  fare_amount  trip_distance   duration\n",
       "0                    1             2          9.3           0.97   8.433333\n",
       "1                    1             1          7.9           1.10   6.316667\n",
       "2                    1             1         14.9           2.51  12.750000\n",
       "3                    0             1         12.1           1.90   9.616667\n",
       "4                    1             1         11.4           1.43  10.833333\n",
       "...                ...           ...          ...            ...        ...\n",
       "99995                1             1         21.2           3.72  20.150000\n",
       "99996                1             1          8.6           0.00   8.100000\n",
       "99997                1             1          4.4           0.00   2.450000\n",
       "99998                1             1          7.9           0.00   7.250000\n",
       "99999                1             1         13.5           1.99  11.850000\n",
       "\n",
       "[100000 rows x 5 columns]"
      ]
     },
     "execution_count": 151,
     "metadata": {},
     "output_type": "execute_result"
    }
   ],
   "source": [
    "# df.shape, filter data as per the requirement that can potentially be used to determine which payment type is more preferred by the passengers.\n",
    "df = df[['passenger_count', 'payment_type', 'fare_amount', 'trip_distance', 'duration']]\n",
    "df"
   ]
  },
  {
   "cell_type": "code",
   "execution_count": 152,
   "metadata": {},
   "outputs": [],
   "source": [
    "# check for missing values/rows\n",
    "# df.isnull().sum()\n",
    "\n",
    "# '''\n",
    "# since here are no missing values, we can proceed to the next step\n",
    "# but if there are missing values, we can either drop the rows with missing values or fill them with the mean or median of the column. so for this we need to check if the missing values are large portion of actual data or not\n",
    "# '''\n",
    "# # drop missing values\n",
    "# passenger_count_missing_values = 65441\n",
    "# # now check percentage of this in actual dataset\n",
    "# (passenger_count_missing_values/len(df))*100\n",
    "# # if this percentage is less than 5% then we can drop the missing values\n",
    "# df.dropna(inplace=True)"
   ]
  },
  {
   "cell_type": "code",
   "execution_count": 153,
   "metadata": {},
   "outputs": [],
   "source": [
    "# now check for duplicates\n",
    "df[df.duplicated()]\n",
    "''' this will return an empty dataframe if there are no duplicates in the dataset, if there are duplicates then we can drop them using the following code\n",
    "df.drop_duplicates(inplace=True)\n",
    "'''\n",
    "df.drop_duplicates(inplace=True)"
   ]
  },
  {
   "cell_type": "code",
   "execution_count": 154,
   "metadata": {},
   "outputs": [
    {
     "data": {
      "text/plain": [
       "(96423, 5)"
      ]
     },
     "execution_count": 154,
     "metadata": {},
     "output_type": "execute_result"
    }
   ],
   "source": [
    "df.shape"
   ]
  },
  {
   "cell_type": "code",
   "execution_count": 155,
   "metadata": {},
   "outputs": [
    {
     "data": {
      "text/plain": [
       "passenger_count\n",
       "1    67.580281\n",
       "2    21.687742\n",
       "3     6.398557\n",
       "4     4.333420\n",
       "Name: proportion, dtype: float64"
      ]
     },
     "execution_count": 155,
     "metadata": {},
     "output_type": "execute_result"
    }
   ],
   "source": [
    "# now we can see passenger_count and payment_type are categorical variables, so we need to check the unique values in these columns and in what percentage they are present in the their respective columns.\n",
    "# here if we get percentage very low even less than 1% then we can drop that column as it will not affect the model much\n",
    "\n",
    "# to remove\n",
    "df = df[(df['passenger_count'] != 0) & (df['passenger_count'] < 5)]\n",
    "df['passenger_count'].value_counts(normalize=True)*100\n"
   ]
  },
  {
   "cell_type": "code",
   "execution_count": 156,
   "metadata": {},
   "outputs": [
    {
     "data": {
      "text/plain": [
       "payment_type\n",
       "1    73.550819\n",
       "2    24.322122\n",
       "4     1.436145\n",
       "3     0.690914\n",
       "Name: proportion, dtype: float64"
      ]
     },
     "execution_count": 156,
     "metadata": {},
     "output_type": "execute_result"
    }
   ],
   "source": [
    "df['payment_type'].value_counts(normalize=True)*100\n"
   ]
  },
  {
   "cell_type": "code",
   "execution_count": 157,
   "metadata": {},
   "outputs": [],
   "source": [
    "# as we are only interested in cash and credit card payment type, we can remove the other payment types\n",
    "df = df[(df['payment_type']<3)]"
   ]
  },
  {
   "cell_type": "code",
   "execution_count": 158,
   "metadata": {},
   "outputs": [],
   "source": [
    "df['payment_type'].replace([1,2], ['Card', 'Cash'], inplace=True)"
   ]
  },
  {
   "cell_type": "code",
   "execution_count": 159,
   "metadata": {},
   "outputs": [
    {
     "data": {
      "text/html": [
       "<div>\n",
       "<style scoped>\n",
       "    .dataframe tbody tr th:only-of-type {\n",
       "        vertical-align: middle;\n",
       "    }\n",
       "\n",
       "    .dataframe tbody tr th {\n",
       "        vertical-align: top;\n",
       "    }\n",
       "\n",
       "    .dataframe thead th {\n",
       "        text-align: right;\n",
       "    }\n",
       "</style>\n",
       "<table border=\"1\" class=\"dataframe\">\n",
       "  <thead>\n",
       "    <tr style=\"text-align: right;\">\n",
       "      <th></th>\n",
       "      <th>passenger_count</th>\n",
       "      <th>fare_amount</th>\n",
       "      <th>trip_distance</th>\n",
       "      <th>duration</th>\n",
       "    </tr>\n",
       "  </thead>\n",
       "  <tbody>\n",
       "    <tr>\n",
       "      <th>count</th>\n",
       "      <td>90094.000000</td>\n",
       "      <td>90094.000000</td>\n",
       "      <td>90094.000000</td>\n",
       "      <td>90094.000000</td>\n",
       "    </tr>\n",
       "    <tr>\n",
       "      <th>mean</th>\n",
       "      <td>1.476103</td>\n",
       "      <td>22.587590</td>\n",
       "      <td>5.210606</td>\n",
       "      <td>17.047115</td>\n",
       "    </tr>\n",
       "    <tr>\n",
       "      <th>std</th>\n",
       "      <td>0.798754</td>\n",
       "      <td>21.282867</td>\n",
       "      <td>207.811742</td>\n",
       "      <td>55.068366</td>\n",
       "    </tr>\n",
       "    <tr>\n",
       "      <th>min</th>\n",
       "      <td>1.000000</td>\n",
       "      <td>-270.320000</td>\n",
       "      <td>0.000000</td>\n",
       "      <td>0.000000</td>\n",
       "    </tr>\n",
       "    <tr>\n",
       "      <th>25%</th>\n",
       "      <td>1.000000</td>\n",
       "      <td>9.300000</td>\n",
       "      <td>1.260000</td>\n",
       "      <td>7.066667</td>\n",
       "    </tr>\n",
       "    <tr>\n",
       "      <th>50%</th>\n",
       "      <td>1.000000</td>\n",
       "      <td>14.200000</td>\n",
       "      <td>2.300000</td>\n",
       "      <td>12.083333</td>\n",
       "    </tr>\n",
       "    <tr>\n",
       "      <th>75%</th>\n",
       "      <td>2.000000</td>\n",
       "      <td>26.800000</td>\n",
       "      <td>5.140000</td>\n",
       "      <td>20.000000</td>\n",
       "    </tr>\n",
       "    <tr>\n",
       "      <th>max</th>\n",
       "      <td>4.000000</td>\n",
       "      <td>496.500000</td>\n",
       "      <td>62359.520000</td>\n",
       "      <td>2596.200000</td>\n",
       "    </tr>\n",
       "  </tbody>\n",
       "</table>\n",
       "</div>"
      ],
      "text/plain": [
       "       passenger_count   fare_amount  trip_distance      duration\n",
       "count     90094.000000  90094.000000   90094.000000  90094.000000\n",
       "mean          1.476103     22.587590       5.210606     17.047115\n",
       "std           0.798754     21.282867     207.811742     55.068366\n",
       "min           1.000000   -270.320000       0.000000      0.000000\n",
       "25%           1.000000      9.300000       1.260000      7.066667\n",
       "50%           1.000000     14.200000       2.300000     12.083333\n",
       "75%           2.000000     26.800000       5.140000     20.000000\n",
       "max           4.000000    496.500000   62359.520000   2596.200000"
      ]
     },
     "execution_count": 159,
     "metadata": {},
     "output_type": "execute_result"
    }
   ],
   "source": [
    "# need to know about statistical analysis of the data\n",
    "df.describe()"
   ]
  },
  {
   "cell_type": "code",
   "execution_count": 160,
   "metadata": {},
   "outputs": [
    {
     "data": {
      "text/plain": [
       "(array([7.9585e+04, 9.7990e+03, 3.6200e+02, 8.1000e+01, 1.9000e+01,\n",
       "        1.3000e+01, 2.0000e+00, 1.0000e+00, 1.0000e+00, 2.0000e+00]),\n",
       " array([1.00000e-02, 4.96590e+01, 9.93080e+01, 1.48957e+02, 1.98606e+02,\n",
       "        2.48255e+02, 2.97904e+02, 3.47553e+02, 3.97202e+02, 4.46851e+02,\n",
       "        4.96500e+02]),\n",
       " <BarContainer object of 10 artists>)"
      ]
     },
     "execution_count": 160,
     "metadata": {},
     "output_type": "execute_result"
    },
    {
     "data": {
      "image/png": "[encoded data removed]",
      "text/plain": [
       "<Figure size 640x480 with 1 Axes>"
      ]
     },
     "metadata": {},
     "output_type": "display_data"
    }
   ],
   "source": [
    "# Step 1 Deal with Negative Values as they wrong values\n",
    "df = df[df['fare_amount'] > 0]\n",
    "# Step 2 identify the outliers as you can see 75% and max, the value differences is very large so here can be possible to check:\n",
    "plt.hist(df['fare_amount'])\n"
   ]
  },
  {
   "cell_type": "markdown",
   "metadata": {},
   "source": [
    "# to remove outliers we have two ways\n",
    "1. z score\n",
    "    use when data is normal distribution using df.description()\n",
    "2. interquartile range\n",
    "    so use this"
   ]
  },
  {
   "cell_type": "code",
   "execution_count": 173,
   "metadata": {},
   "outputs": [
    {
     "data": {
      "image/png": "[encoded data removed]",
      "text/plain": [
       "<Figure size 640x480 with 1 Axes>"
      ]
     },
     "metadata": {},
     "output_type": "display_data"
    }
   ],
   "source": [
    "# using interquartile range to remove outliers\n",
    "\n",
    "# Assuming df is your DataFrame\n",
    "columns = ['fare_amount','trip_distance', 'duration']\n",
    "for col in columns:\n",
    "    q1 = df[col].quantile(0.25)\n",
    "    q3 = df[col].quantile(0.75)\n",
    "    IQR = q3 - q1\n",
    "\n",
    "    lower_bound = q1 - 1.5 * IQR\n",
    "    upper_bound = q3 + 1.5 * IQR\n",
    "\n",
    "    df = df[(df[col] >= lower_bound) & (df[col] <= upper_bound)]\n",
    "\n",
    "plt.hist(df['fare_amount'])\n",
    "plt.show()"
   ]
  },
  {
   "cell_type": "code",
   "execution_count": 174,
   "metadata": {},
   "outputs": [
    {
     "data": {
      "text/html": [
       "<div>\n",
       "<style scoped>\n",
       "    .dataframe tbody tr th:only-of-type {\n",
       "        vertical-align: middle;\n",
       "    }\n",
       "\n",
       "    .dataframe tbody tr th {\n",
       "        vertical-align: top;\n",
       "    }\n",
       "\n",
       "    .dataframe thead th {\n",
       "        text-align: right;\n",
       "    }\n",
       "</style>\n",
       "<table border=\"1\" class=\"dataframe\">\n",
       "  <thead>\n",
       "    <tr style=\"text-align: right;\">\n",
       "      <th></th>\n",
       "      <th>passenger_count</th>\n",
       "      <th>payment_type</th>\n",
       "      <th>fare_amount</th>\n",
       "      <th>trip_distance</th>\n",
       "      <th>duration</th>\n",
       "    </tr>\n",
       "  </thead>\n",
       "  <tbody>\n",
       "    <tr>\n",
       "      <th>0</th>\n",
       "      <td>1</td>\n",
       "      <td>Cash</td>\n",
       "      <td>9.3</td>\n",
       "      <td>0.97</td>\n",
       "      <td>8.433333</td>\n",
       "    </tr>\n",
       "    <tr>\n",
       "      <th>1</th>\n",
       "      <td>1</td>\n",
       "      <td>Card</td>\n",
       "      <td>7.9</td>\n",
       "      <td>1.10</td>\n",
       "      <td>6.316667</td>\n",
       "    </tr>\n",
       "    <tr>\n",
       "      <th>2</th>\n",
       "      <td>1</td>\n",
       "      <td>Card</td>\n",
       "      <td>14.9</td>\n",
       "      <td>2.51</td>\n",
       "      <td>12.750000</td>\n",
       "    </tr>\n",
       "    <tr>\n",
       "      <th>3</th>\n",
       "      <td>1</td>\n",
       "      <td>Card</td>\n",
       "      <td>11.4</td>\n",
       "      <td>1.43</td>\n",
       "      <td>10.833333</td>\n",
       "    </tr>\n",
       "    <tr>\n",
       "      <th>4</th>\n",
       "      <td>1</td>\n",
       "      <td>Card</td>\n",
       "      <td>12.8</td>\n",
       "      <td>1.84</td>\n",
       "      <td>12.300000</td>\n",
       "    </tr>\n",
       "    <tr>\n",
       "      <th>...</th>\n",
       "      <td>...</td>\n",
       "      <td>...</td>\n",
       "      <td>...</td>\n",
       "      <td>...</td>\n",
       "      <td>...</td>\n",
       "    </tr>\n",
       "    <tr>\n",
       "      <th>70970</th>\n",
       "      <td>1</td>\n",
       "      <td>Card</td>\n",
       "      <td>21.2</td>\n",
       "      <td>3.72</td>\n",
       "      <td>20.150000</td>\n",
       "    </tr>\n",
       "    <tr>\n",
       "      <th>70971</th>\n",
       "      <td>1</td>\n",
       "      <td>Card</td>\n",
       "      <td>8.6</td>\n",
       "      <td>0.00</td>\n",
       "      <td>8.100000</td>\n",
       "    </tr>\n",
       "    <tr>\n",
       "      <th>70972</th>\n",
       "      <td>1</td>\n",
       "      <td>Card</td>\n",
       "      <td>4.4</td>\n",
       "      <td>0.00</td>\n",
       "      <td>2.450000</td>\n",
       "    </tr>\n",
       "    <tr>\n",
       "      <th>70973</th>\n",
       "      <td>1</td>\n",
       "      <td>Card</td>\n",
       "      <td>7.9</td>\n",
       "      <td>0.00</td>\n",
       "      <td>7.250000</td>\n",
       "    </tr>\n",
       "    <tr>\n",
       "      <th>70974</th>\n",
       "      <td>1</td>\n",
       "      <td>Card</td>\n",
       "      <td>13.5</td>\n",
       "      <td>1.99</td>\n",
       "      <td>11.850000</td>\n",
       "    </tr>\n",
       "  </tbody>\n",
       "</table>\n",
       "<p>66219 rows × 5 columns</p>\n",
       "</div>"
      ],
      "text/plain": [
       "       passenger_count payment_type  fare_amount  trip_distance   duration\n",
       "0                    1         Cash          9.3           0.97   8.433333\n",
       "1                    1         Card          7.9           1.10   6.316667\n",
       "2                    1         Card         14.9           2.51  12.750000\n",
       "3                    1         Card         11.4           1.43  10.833333\n",
       "4                    1         Card         12.8           1.84  12.300000\n",
       "...                ...          ...          ...            ...        ...\n",
       "70970                1         Card         21.2           3.72  20.150000\n",
       "70971                1         Card          8.6           0.00   8.100000\n",
       "70972                1         Card          4.4           0.00   2.450000\n",
       "70973                1         Card          7.9           0.00   7.250000\n",
       "70974                1         Card         13.5           1.99  11.850000\n",
       "\n",
       "[66219 rows x 5 columns]"
      ]
     },
     "execution_count": 174,
     "metadata": {},
     "output_type": "execute_result"
    }
   ],
   "source": [
    "df"
   ]
  },
  {
   "cell_type": "code",
   "execution_count": 175,
   "metadata": {},
   "outputs": [
    {
     "data": {
      "image/png": "[encoded data removed]",
      "text/plain": [
       "<Figure size 1200x500 with 1 Axes>"
      ]
     },
     "metadata": {},
     "output_type": "display_data"
    },
    {
     "data": {
      "image/png": "[encoded data removed]",
      "text/plain": [
       "<Figure size 1200x500 with 1 Axes>"
      ]
     },
     "metadata": {},
     "output_type": "display_data"
    }
   ],
   "source": [
    "# Now create some visuals\n",
    "plt.figure(figsize=(12, 5)) # this creates a figure 8 inch wide, 4 inch high\n",
    "plt.subplot(1, 2, 1) # this creates a grid of 1 row and 2 columns and sets the active subplot to the first one\n",
    "plt.hist(df[df['payment_type'] == 'Card']['fare_amount'],histtype = 'barstacked', bins = 20, edgecolor = 'k',color = '#FA643F',label = 'Card') # this creates a histogram of the 'fare_amount' column for the 'Card' payment type\n",
    "plt.hist(df[df['payment_type'] == 'Cash']['fare_amount'],histtype = 'barstacked', bins = 20, edgecolor = 'k',color = '#FFBCAB',label = 'Cash')\n",
    "plt.title(' Distribution of Fare Amount by Payment Type') # this sets the title of the active subplot\n",
    "plt.xlabel('Fare Amount (in dollars)') # this sets the x-axis label of the active subplot\n",
    "plt.ylabel('Frequency') # this sets the y-axis label of the active subplot\n",
    "plt.legend() # this displays the legend\n",
    "# plt.show() # this displays the figure\n",
    "\n",
    "# simmilarly make distribution of trip_distance \n",
    "plt.figure(figsize=(12, 5))\n",
    "plt.subplot(1, 2, 1)\n",
    "plt.hist(df[df['payment_type'] == 'Card']['trip_distance'],histtype = 'barstacked', bins = 20, edgecolor = 'k',color = '#FA643F',label = 'Card')\n",
    "plt.hist(df[df['payment_type'] == 'Cash']['trip_distance'],histtype = 'barstacked', bins = 20, edgecolor = 'k',color = '#FFBCAB',label = 'Cash')\n",
    "plt.title(' Distribution of Trip Distance by Payment Type')\n",
    "plt.xlabel('Trip Distance (in miles)')\n",
    "plt.ylabel('Frequency')\n",
    "plt.legend()\n",
    "plt.show()"
   ]
  },
  {
   "cell_type": "code",
   "execution_count": null,
   "metadata": {},
   "outputs": [
    {
     "data": {
      "text/html": [
       "<div>\n",
       "<style scoped>\n",
       "    .dataframe tbody tr th:only-of-type {\n",
       "        vertical-align: middle;\n",
       "    }\n",
       "\n",
       "    .dataframe tbody tr th {\n",
       "        vertical-align: top;\n",
       "    }\n",
       "\n",
       "    .dataframe thead tr th {\n",
       "        text-align: left;\n",
       "    }\n",
       "\n",
       "    .dataframe thead tr:last-of-type th {\n",
       "        text-align: right;\n",
       "    }\n",
       "</style>\n",
       "<table border=\"1\" class=\"dataframe\">\n",
       "  <thead>\n",
       "    <tr>\n",
       "      <th></th>\n",
       "      <th colspan=\"2\" halign=\"left\">fare_amount</th>\n",
       "      <th colspan=\"2\" halign=\"left\">trip_distance</th>\n",
       "    </tr>\n",
       "    <tr>\n",
       "      <th></th>\n",
       "      <th>mean</th>\n",
       "      <th>std</th>\n",
       "      <th>mean</th>\n",
       "      <th>std</th>\n",
       "    </tr>\n",
       "    <tr>\n",
       "      <th>payment_type</th>\n",
       "      <th></th>\n",
       "      <th></th>\n",
       "      <th></th>\n",
       "      <th></th>\n",
       "    </tr>\n",
       "  </thead>\n",
       "  <tbody>\n",
       "    <tr>\n",
       "      <th>Card</th>\n",
       "      <td>12.790974</td>\n",
       "      <td>5.474837</td>\n",
       "      <td>2.066434</td>\n",
       "      <td>1.245423</td>\n",
       "    </tr>\n",
       "    <tr>\n",
       "      <th>Cash</th>\n",
       "      <td>12.303382</td>\n",
       "      <td>5.607041</td>\n",
       "      <td>1.933532</td>\n",
       "      <td>1.299362</td>\n",
       "    </tr>\n",
       "  </tbody>\n",
       "</table>\n",
       "</div>"
      ],
      "text/plain": [
       "             fare_amount           trip_distance          \n",
       "                    mean       std          mean       std\n",
       "payment_type                                              \n",
       "Card           12.790974  5.474837      2.066434  1.245423\n",
       "Cash           12.303382  5.607041      1.933532  1.299362"
      ]
     },
     "execution_count": 176,
     "metadata": {},
     "output_type": "execute_result"
    }
   ],
   "source": [
    "# nOW FIND THE MEAN AND STANDARD DEVIATION OF THE FARE AMOUNT and trip_distance for each payment type\n",
    "df.groupby('payment_type').agg({'fare_amount': ['mean', 'std'], 'trip_distance': ['mean', 'std'],})\n",
    "\n",
    "# CONCLUSION: Payment Type and Fare Amount: On average, trips paid by card have a slightly higher fare amount compared to those paid by cash. However, the difference is not very large.\n",
    "# Payment Type and Trip Distance: On average, trips paid by card are slightly longer in distance compared to those paid by cash. Again, the difference is not very large.\n",
    "# Variability: The variability (standard deviation) in both fare amount and trip distance is slightly lower for card payments compared to cash payments, suggesting that card payments might be more consistent in terms of fare amount and trip distance.\n"
   ]
  },
  {
   "cell_type": "code",
   "execution_count": null,
   "metadata": {},
   "outputs": [
    {
     "data": {
      "image/png": "[encoded data removed]",
      "text/plain": [
       "<Figure size 640x480 with 1 Axes>"
      ]
     },
     "metadata": {},
     "output_type": "display_data"
    }
   ],
   "source": [
    "# Now we need to calculate how much percentage of customers prefers card over cash using pie chart.\n",
    "\n",
    "plt.title('Preference of Payment Type')\n",
    "plt.pie(df['payment_type'].value_counts(normalize=True)*100, labels = ['Card', 'Cash'], autopct='%1.1f%%', startangle=90, colors = ['#FA643F', '#FFBCAB'])\n",
    "\n",
    "plt.show()"
   ]
  },
  {
   "cell_type": "code",
   "execution_count": null,
   "metadata": {},
   "outputs": [
    {
     "data": {
      "text/html": [
       "<div>\n",
       "<style scoped>\n",
       "    .dataframe tbody tr th:only-of-type {\n",
       "        vertical-align: middle;\n",
       "    }\n",
       "\n",
       "    .dataframe tbody tr th {\n",
       "        vertical-align: top;\n",
       "    }\n",
       "\n",
       "    .dataframe thead th {\n",
       "        text-align: right;\n",
       "    }\n",
       "</style>\n",
       "<table border=\"1\" class=\"dataframe\">\n",
       "  <thead>\n",
       "    <tr style=\"text-align: right;\">\n",
       "      <th></th>\n",
       "      <th>passenger_count</th>\n",
       "      <th>payment_type</th>\n",
       "      <th>fare_amount</th>\n",
       "      <th>trip_distance</th>\n",
       "      <th>duration</th>\n",
       "    </tr>\n",
       "  </thead>\n",
       "  <tbody>\n",
       "    <tr>\n",
       "      <th>0</th>\n",
       "      <td>1</td>\n",
       "      <td>Cash</td>\n",
       "      <td>9.3</td>\n",
       "      <td>0.97</td>\n",
       "      <td>8.433333</td>\n",
       "    </tr>\n",
       "    <tr>\n",
       "      <th>1</th>\n",
       "      <td>1</td>\n",
       "      <td>Card</td>\n",
       "      <td>7.9</td>\n",
       "      <td>1.10</td>\n",
       "      <td>6.316667</td>\n",
       "    </tr>\n",
       "    <tr>\n",
       "      <th>2</th>\n",
       "      <td>1</td>\n",
       "      <td>Card</td>\n",
       "      <td>14.9</td>\n",
       "      <td>2.51</td>\n",
       "      <td>12.750000</td>\n",
       "    </tr>\n",
       "    <tr>\n",
       "      <th>3</th>\n",
       "      <td>1</td>\n",
       "      <td>Card</td>\n",
       "      <td>11.4</td>\n",
       "      <td>1.43</td>\n",
       "      <td>10.833333</td>\n",
       "    </tr>\n",
       "    <tr>\n",
       "      <th>4</th>\n",
       "      <td>1</td>\n",
       "      <td>Card</td>\n",
       "      <td>12.8</td>\n",
       "      <td>1.84</td>\n",
       "      <td>12.300000</td>\n",
       "    </tr>\n",
       "    <tr>\n",
       "      <th>...</th>\n",
       "      <td>...</td>\n",
       "      <td>...</td>\n",
       "      <td>...</td>\n",
       "      <td>...</td>\n",
       "      <td>...</td>\n",
       "    </tr>\n",
       "    <tr>\n",
       "      <th>70970</th>\n",
       "      <td>1</td>\n",
       "      <td>Card</td>\n",
       "      <td>21.2</td>\n",
       "      <td>3.72</td>\n",
       "      <td>20.150000</td>\n",
       "    </tr>\n",
       "    <tr>\n",
       "      <th>70971</th>\n",
       "      <td>1</td>\n",
       "      <td>Card</td>\n",
       "      <td>8.6</td>\n",
       "      <td>0.00</td>\n",
       "      <td>8.100000</td>\n",
       "    </tr>\n",
       "    <tr>\n",
       "      <th>70972</th>\n",
       "      <td>1</td>\n",
       "      <td>Card</td>\n",
       "      <td>4.4</td>\n",
       "      <td>0.00</td>\n",
       "      <td>2.450000</td>\n",
       "    </tr>\n",
       "    <tr>\n",
       "      <th>70973</th>\n",
       "      <td>1</td>\n",
       "      <td>Card</td>\n",
       "      <td>7.9</td>\n",
       "      <td>0.00</td>\n",
       "      <td>7.250000</td>\n",
       "    </tr>\n",
       "    <tr>\n",
       "      <th>70974</th>\n",
       "      <td>1</td>\n",
       "      <td>Card</td>\n",
       "      <td>13.5</td>\n",
       "      <td>1.99</td>\n",
       "      <td>11.850000</td>\n",
       "    </tr>\n",
       "  </tbody>\n",
       "</table>\n",
       "<p>66219 rows × 5 columns</p>\n",
       "</div>"
      ],
      "text/plain": [
       "       passenger_count payment_type  fare_amount  trip_distance   duration\n",
       "0                    1         Cash          9.3           0.97   8.433333\n",
       "1                    1         Card          7.9           1.10   6.316667\n",
       "2                    1         Card         14.9           2.51  12.750000\n",
       "3                    1         Card         11.4           1.43  10.833333\n",
       "4                    1         Card         12.8           1.84  12.300000\n",
       "...                ...          ...          ...            ...        ...\n",
       "70970                1         Card         21.2           3.72  20.150000\n",
       "70971                1         Card          8.6           0.00   8.100000\n",
       "70972                1         Card          4.4           0.00   2.450000\n",
       "70973                1         Card          7.9           0.00   7.250000\n",
       "70974                1         Card         13.5           1.99  11.850000\n",
       "\n",
       "[66219 rows x 5 columns]"
      ]
     },
     "execution_count": 178,
     "metadata": {},
     "output_type": "execute_result"
    }
   ],
   "source": [
    "# Now we need to check how number of passengers Can affect the willingness of a customer to pay using card or cash.\n",
    "passenger_count = df.groupby(['payment_type', 'passenger_count'])[['passenger_count']].count()\n",
    "df"
   ]
  },
  {
   "cell_type": "code",
   "execution_count": 179,
   "metadata": {},
   "outputs": [
    {
     "data": {
      "text/html": [
       "<div>\n",
       "<style scoped>\n",
       "    .dataframe tbody tr th:only-of-type {\n",
       "        vertical-align: middle;\n",
       "    }\n",
       "\n",
       "    .dataframe tbody tr th {\n",
       "        vertical-align: top;\n",
       "    }\n",
       "\n",
       "    .dataframe thead th {\n",
       "        text-align: right;\n",
       "    }\n",
       "</style>\n",
       "<table border=\"1\" class=\"dataframe\">\n",
       "  <thead>\n",
       "    <tr style=\"text-align: right;\">\n",
       "      <th></th>\n",
       "      <th>payment_type</th>\n",
       "      <th>passenger_count</th>\n",
       "      <th>count</th>\n",
       "      <th>perc</th>\n",
       "    </tr>\n",
       "  </thead>\n",
       "  <tbody>\n",
       "    <tr>\n",
       "      <th>0</th>\n",
       "      <td>Card</td>\n",
       "      <td>1</td>\n",
       "      <td>34119</td>\n",
       "      <td>51.524487</td>\n",
       "    </tr>\n",
       "    <tr>\n",
       "      <th>1</th>\n",
       "      <td>Card</td>\n",
       "      <td>2</td>\n",
       "      <td>10742</td>\n",
       "      <td>16.221930</td>\n",
       "    </tr>\n",
       "    <tr>\n",
       "      <th>2</th>\n",
       "      <td>Card</td>\n",
       "      <td>3</td>\n",
       "      <td>2908</td>\n",
       "      <td>4.391489</td>\n",
       "    </tr>\n",
       "    <tr>\n",
       "      <th>3</th>\n",
       "      <td>Card</td>\n",
       "      <td>4</td>\n",
       "      <td>1675</td>\n",
       "      <td>2.529485</td>\n",
       "    </tr>\n",
       "    <tr>\n",
       "      <th>4</th>\n",
       "      <td>Cash</td>\n",
       "      <td>1</td>\n",
       "      <td>11367</td>\n",
       "      <td>17.165768</td>\n",
       "    </tr>\n",
       "    <tr>\n",
       "      <th>5</th>\n",
       "      <td>Cash</td>\n",
       "      <td>2</td>\n",
       "      <td>3373</td>\n",
       "      <td>5.093704</td>\n",
       "    </tr>\n",
       "    <tr>\n",
       "      <th>6</th>\n",
       "      <td>Cash</td>\n",
       "      <td>3</td>\n",
       "      <td>1120</td>\n",
       "      <td>1.691357</td>\n",
       "    </tr>\n",
       "    <tr>\n",
       "      <th>7</th>\n",
       "      <td>Cash</td>\n",
       "      <td>4</td>\n",
       "      <td>915</td>\n",
       "      <td>1.381779</td>\n",
       "    </tr>\n",
       "  </tbody>\n",
       "</table>\n",
       "</div>"
      ],
      "text/plain": [
       "  payment_type  passenger_count  count       perc\n",
       "0         Card                1  34119  51.524487\n",
       "1         Card                2  10742  16.221930\n",
       "2         Card                3   2908   4.391489\n",
       "3         Card                4   1675   2.529485\n",
       "4         Cash                1  11367  17.165768\n",
       "5         Cash                2   3373   5.093704\n",
       "6         Cash                3   1120   1.691357\n",
       "7         Cash                4    915   1.381779"
      ]
     },
     "execution_count": 179,
     "metadata": {},
     "output_type": "execute_result"
    }
   ],
   "source": [
    "passenger_count.rename(columns = {'passenger_count': 'count'}, inplace = True)\n",
    "passenger_count.reset_index(inplace = True)\n",
    "passenger_count['perc'] = (passenger_count['count']/passenger_count['count'].sum())*100\n",
    "\n",
    "passenger_count"
   ]
  },
  {
   "cell_type": "code",
   "execution_count": 180,
   "metadata": {},
   "outputs": [
    {
     "data": {
      "text/html": [
       "<div>\n",
       "<style scoped>\n",
       "    .dataframe tbody tr th:only-of-type {\n",
       "        vertical-align: middle;\n",
       "    }\n",
       "\n",
       "    .dataframe tbody tr th {\n",
       "        vertical-align: top;\n",
       "    }\n",
       "\n",
       "    .dataframe thead th {\n",
       "        text-align: right;\n",
       "    }\n",
       "</style>\n",
       "<table border=\"1\" class=\"dataframe\">\n",
       "  <thead>\n",
       "    <tr style=\"text-align: right;\">\n",
       "      <th></th>\n",
       "      <th>payment_type</th>\n",
       "      <th>1</th>\n",
       "      <th>2</th>\n",
       "      <th>3</th>\n",
       "      <th>4</th>\n",
       "    </tr>\n",
       "  </thead>\n",
       "  <tbody>\n",
       "    <tr>\n",
       "      <th>0</th>\n",
       "      <td>Card</td>\n",
       "      <td>51.524487</td>\n",
       "      <td>16.22193</td>\n",
       "      <td>4.391489</td>\n",
       "      <td>2.529485</td>\n",
       "    </tr>\n",
       "    <tr>\n",
       "      <th>1</th>\n",
       "      <td>Cash</td>\n",
       "      <td>17.165768</td>\n",
       "      <td>5.093704</td>\n",
       "      <td>1.691357</td>\n",
       "      <td>1.381779</td>\n",
       "    </tr>\n",
       "  </tbody>\n",
       "</table>\n",
       "</div>"
      ],
      "text/plain": [
       "  payment_type          1         2         3         4\n",
       "0         Card  51.524487  16.22193  4.391489  2.529485\n",
       "1         Cash  17.165768  5.093704  1.691357  1.381779"
      ]
     },
     "execution_count": 180,
     "metadata": {},
     "output_type": "execute_result"
    }
   ],
   "source": [
    "df1 = pd.DataFrame(columns=['payment_type',1,2,3,4])\n",
    "df1['payment_type'] = ['Card', 'Cash']\n",
    "df1.iloc[0,1:] = passenger_count[passenger_count['payment_type'] == 'Card']['perc'].values\n",
    "df1.iloc[1,1:] = passenger_count[passenger_count['payment_type'] == 'Cash']['perc'].values\n",
    "df1"
   ]
  },
  {
   "cell_type": "code",
   "execution_count": null,
   "metadata": {},
   "outputs": [
    {
     "data": {
      "image/png": "[encoded data removed]",
      "text/plain": [
       "<Figure size 2000x600 with 1 Axes>"
      ]
     },
     "metadata": {},
     "output_type": "display_data"
    }
   ],
   "source": [
    "fig, ax = plt.subplots(figsize=(20, 6))\n",
    "df1.plot(x = 'payment_type', kind = 'barh', stacked = True, color = ['#FA643F', '#FFBCAB', '#CBB2B2', '#F1F1F1', '#FD9F9F', '#FFE8C4'], ax=ax)\n",
    "\n",
    "#  Add Percentage text\n",
    "for p in ax.patches:\n",
    "    width = p.get_width()\n",
    "    height = p.get_height()\n",
    "    x, y = p.get_xy() \n",
    "    ax.text(x + width/2,\n",
    "            y + height/2,\n",
    "            '{:.0f}%'.format(width),\n",
    "            horizontalalignment='center',\n",
    "            verticalalignment='center',\n",
    "            ) # this sets the font size of the text\n",
    "    \n",
    "# Conclusion: The percentage of customers who prefer card payments is higher for trips with 1 passenger compared to trips with 2, 3, or 4 passengers. This suggests that customers who travel alone are more likely to pay by card compared to customers who travel in groups.\n",
    "# here we can see payment type are preferred as 25.3% for cash and 74.7% for card.\n",
    "# so out of 74.7% of card payment, 45.7% are for 1 passenger, 20.3% for 2 passengers, 6.9% for 3 passengers and 1.8% for 4 passengers.\n",
    "# similarly out of 25.3% of cash payment, 15.3% are for 1 passenger, 6.9% for 2 passengers, 2.3% for 3 passengers and 0.8% for 4 passengers."
   ]
  },
  {
   "cell_type": "markdown",
   "metadata": {},
   "source": [
    "### Now the analysis is done, now we need to show the hypothesis testing to check the significance of the results obtained. \n",
    "\n",
    "Null Hypothesis: There is no significant difference in the mean fare amount between customers who use credit cards and customer who use cash payments.\n",
    "Alternative hypothesis: There is a difference in the mean fare amount between customers who use credit cards and customer who use cash payments.\n",
    "    \n",
    "    \n",
    "\n"
   ]
  },
  {
   "cell_type": "code",
   "execution_count": 182,
   "metadata": {},
   "outputs": [
    {
     "data": {
      "image/png": "[encoded data removed]",
      "text/plain": [
       "<Figure size 640x480 with 1 Axes>"
      ]
     },
     "metadata": {},
     "output_type": "display_data"
    }
   ],
   "source": [
    "# # Ensure 'fare_amount' column is present in the \n",
    "sm.qqplot(df['fare_amount'], line ='45')\n",
    "plt.show()\n",
    "# if the data is normally distributed then the data points will fall on the straight line, if not then we need to apply some transformation to make it normally distributed\n"
   ]
  },
  {
   "cell_type": "code",
   "execution_count": null,
   "metadata": {},
   "outputs": [
    {
     "name": "stdout",
     "output_type": "stream",
     "text": [
      "t-statistic: 9.790343861380085 p-value: 1.345197383935251e-22\n"
     ]
    }
   ],
   "source": [
    "# using ttest to check the difference between the fare amount of card and cash payment type\n",
    "\n",
    "card_sample = df[df['payment_type'] == 'Card']['fare_amount']\n",
    "cash_sample = df[df['payment_type'] == 'Cash']['fare_amount']\n",
    "\n",
    "t_stat, p_val = st.ttest_ind(card_sample, cash_sample, equal_var = False)\n",
    "print('t-statistic:', t_stat, 'p-value:', p_val)\n",
    "\n",
    "# Conclusion: The p-value is less than 0.05, which means that we reject the null hypothesis. This suggests that there is a statistically significant difference between the fare amounts of trips paid by card and cash. However, the difference is not very large in practical terms."
   ]
  }
 ],
 "metadata": {
  "kernelspec": {
   "display_name": "Python 3",
   "language": "python",
   "name": "python3"
  },
  "language_info": {
   "codemirror_mode": {
    "name": "ipython",
    "version": 3
   },
   "file_extension": ".py",
   "mimetype": "text/x-python",
   "name": "python",
   "nbconvert_exporter": "python",
   "pygments_lexer": "ipython3",
   "version": "3.13.0"
  }
 },
 "nbformat": 4,
 "nbformat_minor": 2
}
